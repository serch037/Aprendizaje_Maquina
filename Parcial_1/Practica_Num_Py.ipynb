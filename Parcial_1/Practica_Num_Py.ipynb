{
  "nbformat": 4,
  "nbformat_minor": 0,
  "metadata": {
    "kernelspec": {
      "display_name": "Python 3",
      "language": "python",
      "name": "python3"
    },
    "language_info": {
      "codemirror_mode": {
        "name": "ipython",
        "version": 3
      },
      "file_extension": ".py",
      "mimetype": "text/x-python",
      "name": "python",
      "nbconvert_exporter": "python",
      "pygments_lexer": "ipython3",
      "version": "3.7.6"
    },
    "colab": {
      "name": "Practica_Num_Py.ipynb",
      "provenance": []
    }
  },
  "cells": [
    {
      "cell_type": "markdown",
      "metadata": {
        "id": "IPmocnIv5lY1",
        "colab_type": "text"
      },
      "source": [
        "[![Open In Colab](https://colab.research.google.com/assets/colab-badge.svg)](https://colab.research.google.com/github/MauricioRR-Tec/Machine-Learning/blob/master/Notebooks/Practica_Num_Py.ipynb)"
      ]
    },
    {
      "cell_type": "markdown",
      "metadata": {
        "id": "m6pB6Csg5lY6",
        "colab_type": "text"
      },
      "source": [
        "# Practica - MNist con NumPy\n",
        "---\n",
        "## Usando Numpy con MNist\n",
        "\n",
        "MNist es un popular conjunto de datos que contiene imágenes de dígitos del 0-9 escritos a mano. Las imágenes en el conjunto están compuestas por 28x28 pixeles, cada pixel representa un tono en una escala de grises siendo 0 el valor más luminoso y 255 el valor más oscuro.\n",
        "\n",
        "Unos ejemplos de las imágenes en MNist:\n",
        "\n",
        "![alt text](https://upload.wikimedia.org/wikipedia/commons/2/27/MnistExamples.png)"
      ]
    },
    {
      "cell_type": "markdown",
      "metadata": {
        "id": "hL5LOpmI5lY9",
        "colab_type": "text"
      },
      "source": [
        "Ejecuta la siguiente celda para importar las librerías utilizadas durante la notebook.\n"
      ]
    },
    {
      "cell_type": "code",
      "metadata": {
        "id": "h970jxI95lY-",
        "colab_type": "code",
        "colab": {}
      },
      "source": [
        "import numpy as np\n",
        "from matplotlib import pyplot as plt"
      ],
      "execution_count": 3,
      "outputs": []
    },
    {
      "cell_type": "markdown",
      "metadata": {
        "id": "YsxkYVC15lZR",
        "colab_type": "text"
      },
      "source": [
        "Una función auxiliar ```display_example``` para visualizar ejemplos en el conjunto de datos MNist.\n",
        "\n",
        "*Nota: No olvides ejecutar la celda*"
      ]
    },
    {
      "cell_type": "code",
      "metadata": {
        "id": "oFocT47p5lZU",
        "colab_type": "code",
        "colab": {}
      },
      "source": [
        "def display_example(x, example_width=None):\n",
        "    \"\"\"Muestra un ejemplo en forma 1D como una imagen\"\"\"\n",
        "    # Compute rows, cols\n",
        "    if x.ndim == 1:\n",
        "        n = x.size\n",
        "        m = 1\n",
        "        x = x[None]  # Promote to a 2 dimensional array\n",
        "    else:\n",
        "        raise IndexError('Input x should be 1 dimensional.')\n",
        "\n",
        "    example_width = example_width or int(np.round(np.sqrt(n)))\n",
        "    example_height = n // example_width\n",
        "\n",
        "    plt.imshow(x[0].reshape(example_height, example_width),\n",
        "                        cmap='Greys', extent=[0, 1, 0, 1])\n",
        "    plt.show()"
      ],
      "execution_count": 17,
      "outputs": []
    },
    {
      "cell_type": "markdown",
      "metadata": {
        "id": "N6_COXk85lZg",
        "colab_type": "text"
      },
      "source": [
        "## Cargando los datos usando Numpy\n",
        "\n",
        "Usarémos la función ```loadtxt``` para cargar una versión de MNist que está en nuestra máquina asignada por colab."
      ]
    },
    {
      "cell_type": "code",
      "metadata": {
        "id": "fpeRUOV65lZh",
        "colab_type": "code",
        "colab": {
          "base_uri": "https://localhost:8080/",
          "height": 144
        },
        "outputId": "9addb34f-ef61-481a-c0c8-096c93820c86"
      },
      "source": [
        "MNist = np.loadtxt(\"sample_data/mnist_train_small.csv\", delimiter=',')\n",
        "MNist"
      ],
      "execution_count": 18,
      "outputs": [
        {
          "output_type": "execute_result",
          "data": {
            "text/plain": [
              "array([[6., 0., 0., ..., 0., 0., 0.],\n",
              "       [5., 0., 0., ..., 0., 0., 0.],\n",
              "       [7., 0., 0., ..., 0., 0., 0.],\n",
              "       ...,\n",
              "       [2., 0., 0., ..., 0., 0., 0.],\n",
              "       [9., 0., 0., ..., 0., 0., 0.],\n",
              "       [5., 0., 0., ..., 0., 0., 0.]])"
            ]
          },
          "metadata": {
            "tags": []
          },
          "execution_count": 18
        }
      ]
    },
    {
      "cell_type": "markdown",
      "metadata": {
        "id": "-yzo-vew5lZu",
        "colab_type": "text"
      },
      "source": [
        "El conjunto de datos MNist en Colab está formado por imágenes de ejemplo. Cada ejemplo en el conjunto es una fila en el arreglo de NumPy.\n",
        "\n",
        "Cada ejemplo (fila) es un arreglo con $785$ elementos, el primer elemento es la etiqueta del dígito (un entero de $0$ a $9$). El resto de los elementos ($784$) son los pixeles de la imágen ($28\\times28 = 784$).\n",
        "\n",
        "---\n",
        "## ¿Cuántos ejemplos (filas) tenemos en el conjunto de datos?\n",
        "\n",
        "Utiliza NumPy para calcular el número de filas en el set de datos, rellena el código para guardar el valor en la variable ```m```."
      ]
    },
    {
      "cell_type": "code",
      "metadata": {
        "id": "nAEkF-rN5lZw",
        "colab_type": "code",
        "colab": {
          "base_uri": "https://localhost:8080/",
          "height": 35
        },
        "outputId": "77e5c8e8-6731-481f-bc9a-596d4446d7b6"
      },
      "source": [
        "m = MNist.shape[0]\n",
        "print(\"El set de datos contiene \", m, \" ejemplos.\")"
      ],
      "execution_count": 19,
      "outputs": [
        {
          "output_type": "stream",
          "text": [
            "El set de datos contiene  20000  ejemplos.\n"
          ],
          "name": "stdout"
        }
      ]
    },
    {
      "cell_type": "markdown",
      "metadata": {
        "id": "Yb9xLWhR5laG",
        "colab_type": "text"
      },
      "source": [
        "## Separando los datos.\n",
        "\n",
        "En la siguiente celda, deberás completar el código para separar el conjunto de datos en dos, un conjunto ```X``` que contendrá únicamente los pixeles de las imágenes y un conjunto ```y``` que contendrá las etiquetas asociadas al número que está en la imágen.\n",
        "\n",
        "Utiliza slicing con NumPy para seleccionar los elementos adecuados."
      ]
    },
    {
      "cell_type": "code",
      "metadata": {
        "id": "Tk5pgILq5laH",
        "colab_type": "code",
        "colab": {}
      },
      "source": [
        "X = MNist[:,1:]\n",
        "y = MNist[:,0]"
      ],
      "execution_count": 20,
      "outputs": []
    },
    {
      "cell_type": "code",
      "metadata": {
        "id": "RMmkrEZy5laR",
        "colab_type": "code",
        "colab": {}
      },
      "source": [
        "Comprueba ejecutando la siguiente celda:\n"
      ],
      "execution_count": null,
      "outputs": []
    },
    {
      "cell_type": "code",
      "metadata": {
        "id": "r2w3v3rK5laZ",
        "colab_type": "code",
        "colab": {
          "base_uri": "https://localhost:8080/",
          "height": 53
        },
        "outputId": "d1afd1ea-a1fe-49a2-eeea-1ecad19dcd6b"
      },
      "source": [
        "assert y.shape == (20000,) and X.shape == (20000, 784), \"Error en las dimensiones de X o y\"\n",
        "print(\"X.shape:\", X.shape)\n",
        "print(\"y.shape:\", y.shape)"
      ],
      "execution_count": 21,
      "outputs": [
        {
          "output_type": "stream",
          "text": [
            "X.shape: (20000, 784)\n",
            "y.shape: (20000,)\n"
          ],
          "name": "stdout"
        }
      ]
    },
    {
      "cell_type": "markdown",
      "metadata": {
        "id": "mKLItLUp5laf",
        "colab_type": "text"
      },
      "source": [
        "## Visualizando las imágenes en el set de datos\n",
        "\n",
        "Usemos la función auxiliar display_example para visualizar los ejemplos en el set de datos. Intentar cambiar el valor de ```i``` para mostrar una ejemplo distinto."
      ]
    },
    {
      "cell_type": "code",
      "metadata": {
        "id": "KnOutPSP5lah",
        "colab_type": "code",
        "colab": {
          "base_uri": "https://localhost:8080/",
          "height": 287
        },
        "outputId": "55994ceb-11ed-45dc-a152-b6535880d061"
      },
      "source": [
        "#puedes cambiar el valor de i\n",
        "i = 200\n",
        "\n",
        "example = X[i]\n",
        "example_label = y[i]\n",
        "display_example(example)\n",
        "print(\"Imágen con etiqueta: \", example_label)"
      ],
      "execution_count": 22,
      "outputs": [
        {
          "output_type": "display_data",
          "data": {
            "image/png": "[encoded data removed]",
            "text/plain": [
              "<Figure size 432x288 with 1 Axes>"
            ]
          },
          "metadata": {
            "tags": [],
            "needs_background": "light"
          }
        },
        {
          "output_type": "stream",
          "text": [
            "Imágen con etiqueta:  9.0\n"
          ],
          "name": "stdout"
        }
      ]
    },
    {
      "cell_type": "markdown",
      "metadata": {
        "id": "eZIRQ4lH5lap",
        "colab_type": "text"
      },
      "source": [
        "## Contando el número de ejemplos para cada \"clase\"\n",
        "\n",
        "Rellena la función ```count_class_examples()``` para imprimir el número de ejemplos de cada etiqueta en el set de datos. Esto es, el número de ceros, de unos, dos, ..., nueves.\n",
        "\n",
        "Para MNist las etiquetas $y \\in \\{0, 1, 2, \\dots, 9\\}$"
      ]
    },
    {
      "cell_type": "code",
      "metadata": {
        "id": "hF5edOEB5laq",
        "colab_type": "code",
        "colab": {}
      },
      "source": [
        "def count_class_examples(y):\n",
        "  \"\"\"Imprime el numero de ejemplos para cada clase en y.\n",
        "  \n",
        "  Argumentos\n",
        "  y - arreglos de numpy que contiene etiquetas\n",
        "  \"\"\"\n",
        "  \n",
        "  for i in range(10):\n",
        "    count = np.count_nonzero(y == i)\n",
        "    print(\"Numero de \", i, count)"
      ],
      "execution_count": 24,
      "outputs": []
    },
    {
      "cell_type": "code",
      "metadata": {
        "id": "WKv5ioVI5law",
        "colab_type": "code",
        "colab": {
          "base_uri": "https://localhost:8080/",
          "height": 199
        },
        "outputId": "9b472eff-ae23-423a-d871-9b404b298992"
      },
      "source": [
        "count_class_examples(y)"
      ],
      "execution_count": 25,
      "outputs": [
        {
          "output_type": "stream",
          "text": [
            "Numero de  0 1962\n",
            "Numero de  1 2243\n",
            "Numero de  2 1989\n",
            "Numero de  3 2021\n",
            "Numero de  4 1924\n",
            "Numero de  5 1761\n",
            "Numero de  6 2039\n",
            "Numero de  7 2126\n",
            "Numero de  8 1912\n",
            "Numero de  9 2023\n"
          ],
          "name": "stdout"
        }
      ]
    },
    {
      "cell_type": "markdown",
      "metadata": {
        "id": "yDyAFGo95la3",
        "colab_type": "text"
      },
      "source": [
        "## Calcula el arreglo representativo para cada clase\n",
        "\n",
        "Utiliza Numpy para encontrar el arreglo representativo promediando los arreglos para cada clase. Rellena la función ``` class_means``` para que devuelva un arreglo de NumPy que contenga en cada fila el arreglo promedio de los respectivos ejemplos (del dígito 0 al 9)."
      ]
    },
    {
      "cell_type": "code",
      "metadata": {
        "id": "Wc0B4Iws5la7",
        "colab_type": "code",
        "colab": {}
      },
      "source": [
        "def class_means(X, y):\n",
        "  \"\"\"\n",
        "  Calcula el arreglo promedio (representativo) de cada clase\n",
        "  \"\"\"\n",
        "  # Numero de ejemplos (filas)\n",
        "  m = X.shape[0]\n",
        "  # Numero de features (columnas)\n",
        "  n = X.shape[1]\n",
        "  # Clases distintas en el set\n",
        "  ulabels = np.unique(y)\n",
        "  # Numero de clases\n",
        "  classes = ulabels.size\n",
        "\n",
        "  # Rellena means con el arreglo promedio de cada clase\n",
        "  means = np.empty((classes, n))\n",
        "  for i in range(classes):\n",
        "    # obtenemos los indices del los ejemplos de una clase\n",
        "    idx = np.where(y==ulabels[i])\n",
        "    #promediamos dentro de esa muestra\n",
        "    means[i,:] = np.mean(X[idx], axis=0)\n",
        "  return means"
      ],
      "execution_count": 26,
      "outputs": []
    },
    {
      "cell_type": "code",
      "metadata": {
        "id": "r5zvGePV5lbE",
        "colab_type": "code",
        "colab": {
          "base_uri": "https://localhost:8080/",
          "height": 35
        },
        "outputId": "a7357488-e802-4f90-de45-41c9f93759e7"
      },
      "source": [
        "class_representatives = class_means(X, y)\n",
        "\n",
        "#shape del arreglo que contiene los representativos\n",
        "class_representatives.shape"
      ],
      "execution_count": 27,
      "outputs": [
        {
          "output_type": "execute_result",
          "data": {
            "text/plain": [
              "(10, 784)"
            ]
          },
          "metadata": {
            "tags": []
          },
          "execution_count": 27
        }
      ]
    },
    {
      "cell_type": "code",
      "metadata": {
        "id": "GEzLNURC5lbM",
        "colab_type": "code",
        "colab": {
          "base_uri": "https://localhost:8080/",
          "height": 35
        },
        "outputId": "d713bc4b-d9a7-4778-c073-dfa106e084d6"
      },
      "source": [
        "assert np.array_equal(class_means(np.array([[4, 6], [2, 4], [10, 4], [2, 6]]), np.array([1, 2, 1, 2])), np.array([[7, 5], [2, 5]])), \"Error\"\n",
        "assert class_representatives.shape == (10, 784), \"Error en las dimensiones de class_representatives\"\n",
        "print(\"Funcion clas_means es correcta\")"
      ],
      "execution_count": 28,
      "outputs": [
        {
          "output_type": "stream",
          "text": [
            "Funcion clas_means es correcta\n"
          ],
          "name": "stdout"
        }
      ]
    },
    {
      "cell_type": "markdown",
      "metadata": {
        "id": "LtZ6qJtO5lbR",
        "colab_type": "text"
      },
      "source": [
        "Utiliza la función display_example para mostrar el ejemplo promedio de la clase (para cada clase).\n"
      ]
    },
    {
      "cell_type": "code",
      "metadata": {
        "id": "I8MREtpU5lbT",
        "colab_type": "code",
        "colab": {
          "base_uri": "https://localhost:8080/",
          "height": 1000
        },
        "outputId": "8f18146e-057c-4c93-fd1d-46c7e8b9bf92"
      },
      "source": [
        "for i in range(10):\n",
        "  display_example(class_representatives[i])\n",
        "  print(\"Ejemplo para etiqueta: \", i)"
      ],
      "execution_count": 29,
      "outputs": [
        {
          "output_type": "display_data",
          "data": {
            "image/png": "[encoded data removed]",
            "text/plain": [
              "<Figure size 432x288 with 1 Axes>"
            ]
          },
          "metadata": {
            "tags": [],
            "needs_background": "light"
          }
        },
        {
          "output_type": "stream",
          "text": [
            "Ejemplo para etiqueta:  0\n"
          ],
          "name": "stdout"
        },
        {
          "output_type": "display_data",
          "data": {
            "image/png": "[encoded data removed]",
            "text/plain": [
              "<Figure size 432x288 with 1 Axes>"
            ]
          },
          "metadata": {
            "tags": [],
            "needs_background": "light"
          }
        },
        {
          "output_type": "stream",
          "text": [
            "Ejemplo para etiqueta:  1\n"
          ],
          "name": "stdout"
        },
        {
          "output_type": "display_data",
          "data": {
            "image/png": "[encoded data removed]",
            "text/plain": [
              "<Figure size 432x288 with 1 Axes>"
            ]
          },
          "metadata": {
            "tags": [],
            "needs_background": "light"
          }
        },
        {
          "output_type": "stream",
          "text": [
            "Ejemplo para etiqueta:  2\n"
          ],
          "name": "stdout"
        },
        {
          "output_type": "display_data",
          "data": {
            "image/png": "[encoded data removed]",
            "text/plain": [
              "<Figure size 432x288 with 1 Axes>"
            ]
          },
          "metadata": {
            "tags": [],
            "needs_background": "light"
          }
        },
        {
          "output_type": "stream",
          "text": [
            "Ejemplo para etiqueta:  3\n"
          ],
          "name": "stdout"
        },
        {
          "output_type": "display_data",
          "data": {
            "image/png": "[encoded data removed]",
            "text/plain": [
              "<Figure size 432x288 with 1 Axes>"
            ]
          },
          "metadata": {
            "tags": [],
            "needs_background": "light"
          }
        },
        {
          "output_type": "stream",
          "text": [
            "Ejemplo para etiqueta:  4\n"
          ],
          "name": "stdout"
        },
        {
          "output_type": "display_data",
          "data": {
            "image/png": "[encoded data removed]",
            "text/plain": [
              "<Figure size 432x288 with 1 Axes>"
            ]
          },
          "metadata": {
            "tags": [],
            "needs_background": "light"
          }
        },
        {
          "output_type": "stream",
          "text": [
            "Ejemplo para etiqueta:  5\n"
          ],
          "name": "stdout"
        },
        {
          "output_type": "display_data",
          "data": {
            "image/png": "[encoded data removed]",
            "text/plain": [
              "<Figure size 432x288 with 1 Axes>"
            ]
          },
          "metadata": {
            "tags": [],
            "needs_background": "light"
          }
        },
        {
          "output_type": "stream",
          "text": [
            "Ejemplo para etiqueta:  6\n"
          ],
          "name": "stdout"
        },
        {
          "output_type": "display_data",
          "data": {
            "image/png": "[encoded data removed]",
            "text/plain": [
              "<Figure size 432x288 with 1 Axes>"
            ]
          },
          "metadata": {
            "tags": [],
            "needs_background": "light"
          }
        },
        {
          "output_type": "stream",
          "text": [
            "Ejemplo para etiqueta:  7\n"
          ],
          "name": "stdout"
        },
        {
          "output_type": "display_data",
          "data": {
            "image/png": "[encoded data removed]",
            "text/plain": [
              "<Figure size 432x288 with 1 Axes>"
            ]
          },
          "metadata": {
            "tags": [],
            "needs_background": "light"
          }
        },
        {
          "output_type": "stream",
          "text": [
            "Ejemplo para etiqueta:  8\n"
          ],
          "name": "stdout"
        },
        {
          "output_type": "display_data",
          "data": {
            "image/png": "[encoded data removed]",
            "text/plain": [
              "<Figure size 432x288 with 1 Axes>"
            ]
          },
          "metadata": {
            "tags": [],
            "needs_background": "light"
          }
        },
        {
          "output_type": "stream",
          "text": [
            "Ejemplo para etiqueta:  9\n"
          ],
          "name": "stdout"
        }
      ]
    },
    {
      "cell_type": "markdown",
      "metadata": {
        "id": "_jL1nPmm5lbY",
        "colab_type": "text"
      },
      "source": [
        "## Clasificador de dígitos usando distancias\n",
        "\n",
        "En esta sección, generaremos un modelo para identificar dígitos mediante el uso de distancias euclidianas. Calcularemos la distancia entre cada ejemplo en el conjunto y los dígitos representativos de cada clase (el valor promedio de cada clase). Le asignaremos a cada ejemplo la etiqueta del dígito representativo con menor distancia.\n",
        "\n",
        "---\n",
        "\n",
        "### Distancia Euclidiana\n",
        "\n",
        "En la siguiente celda, rellena la función ```euclidean_distance``` para calcular la distancia euclidiana entre los puntos P y Q.\n",
        "\n",
        "La distancia euclidiana entre dos puntos P y Q en un espacio n-dimesional es:\n",
        "\n",
        "$$d_e(P, Q) = \\sqrt{(p_1 - q_1)^2+(p_2-q_2)^2 + \\dots+(p_n-q_n)^2} = \\sqrt{\\sum_{i=1}^{n}(p_i-q_i)^2} $$"
      ]
    },
    {
      "cell_type": "code",
      "metadata": {
        "id": "RITBNaNE5lba",
        "colab_type": "code",
        "colab": {}
      },
      "source": [
        "def euclidean_distance(P, Q):\n",
        "  \"\"\"\n",
        "  Calcula la distancia euclidiana entre los elementos de P y Q\n",
        "  \"\"\"\n",
        "  # diferencia de cuadrados\n",
        "  dif = np.power(P-Q,2)\n",
        "  # suma de diferencias\n",
        "  dif_sum = np.sum(dif)\n",
        "  e_distance = np.sqrt(dif_sum)\n",
        "  return e_distance"
      ],
      "execution_count": 60,
      "outputs": []
    },
    {
      "cell_type": "code",
      "metadata": {
        "id": "t1rKNR_x5lbf",
        "colab_type": "code",
        "colab": {
          "base_uri": "https://localhost:8080/",
          "height": 35
        },
        "outputId": "f382e2ff-8a95-455a-c3c4-d4762cc67e10"
      },
      "source": [
        "a = np.array([[1, 2, 3]])\n",
        "b = np.array([[3, 3, 5]])\n",
        "euclidean_distance(a, b)"
      ],
      "execution_count": 61,
      "outputs": [
        {
          "output_type": "execute_result",
          "data": {
            "text/plain": [
              "3.0"
            ]
          },
          "metadata": {
            "tags": []
          },
          "execution_count": 61
        }
      ]
    },
    {
      "cell_type": "code",
      "metadata": {
        "id": "COmbE8EX5lbj",
        "colab_type": "code",
        "colab": {}
      },
      "source": [
        "assert euclidean_distance(np.array([[1, 2, 3]]), np.array([[3, 3, 5]])) == 3.0, \"Error en euclidean_distance\""
      ],
      "execution_count": 62,
      "outputs": []
    },
    {
      "cell_type": "markdown",
      "metadata": {
        "id": "SEybhUne5lbo",
        "colab_type": "text"
      },
      "source": [
        "## Obten el representante más cercano para cada ejemplo\n",
        "\n",
        "Rellena la función ```closest_point``` para asignar a cada ejemplo la etiqueta del dígito más cercano según su distancia al arreglo representativo.\n",
        "\n",
        "*¿Puedes hacerlo con 2, 1 o ningún ciclo for?*"
      ]
    },
    {
      "cell_type": "code",
      "metadata": {
        "id": "Sbsp1xJk5lbq",
        "colab_type": "code",
        "colab": {}
      },
      "source": [
        "def closest_point(X, representatives):\n",
        "  \"\"\"\n",
        "  Devuelve un arreglo con la etiqueta del elemento mas cercano\n",
        "  para cada ejemplo en X\n",
        "\n",
        "  X -  el arreglo con los ejemplos\n",
        "  representatives - el arreglo con los elementos representativos de cada clase\n",
        "  \"\"\"\n",
        "  # Numero de ejemplos (filas)\n",
        "  m = X.shape[0]\n",
        "  # Numero de features (columnas)\n",
        "  n = X.shape[1]\n",
        "  # Numero de clases\n",
        "  classes = representatives.shape[0]\n",
        "\n",
        "  # Distancias minimas\n",
        "  min_distances = np.full(m, np.inf)\n",
        "  # El indice de la mejor distancia\n",
        "  best = np.zeros((X.shape[0]), dtype=np.int8)\n",
        "\n",
        "  euc_distance_helper = lambda xi: np.array([euclidean_distance(xi,Q) for Q in representatives])\n",
        "  distances = np.array([euc_distance_helper(xi) for xi in X])\n",
        "  min_distances = np.argmin(distances, axis=1)\n",
        "  \n",
        "  return min_distances"
      ],
      "execution_count": 63,
      "outputs": []
    },
    {
      "cell_type": "code",
      "metadata": {
        "id": "u5Vy9EwK5lbv",
        "colab_type": "code",
        "colab": {}
      },
      "source": [
        "y_pred = closest_point(X, class_representatives)"
      ],
      "execution_count": 65,
      "outputs": []
    },
    {
      "cell_type": "code",
      "metadata": {
        "id": "5uOKTlNR5lb0",
        "colab_type": "code",
        "colab": {}
      },
      "source": [
        "assert y_pred.shape == (20000,) or y_pred.shape == (20000), \"Error en las dimensiones de y_pred\""
      ],
      "execution_count": 66,
      "outputs": []
    },
    {
      "cell_type": "markdown",
      "metadata": {
        "id": "oS68l7ym5lb4",
        "colab_type": "text"
      },
      "source": [
        "## Visualiza las predicciones"
      ]
    },
    {
      "cell_type": "code",
      "metadata": {
        "id": "WwAVCCcT5lb6",
        "colab_type": "code",
        "colab": {
          "base_uri": "https://localhost:8080/",
          "height": 287
        },
        "outputId": "f3682178-1a12-4e74-fe79-19b78c1dc7b4"
      },
      "source": [
        "#intenta cambiar el valor de i\n",
        "i = 5\n",
        "\n",
        "example = X[i]\n",
        "pred_label = y_pred[i]\n",
        "true_label = y[i]\n",
        "display_example(example)\n",
        "print(\"Imágen con etiqueta: \", true_label, \" modelo dice:\", pred_label)"
      ],
      "execution_count": 67,
      "outputs": [
        {
          "output_type": "display_data",
          "data": {
            "image/png": "[encoded data removed]",
            "text/plain": [
              "<Figure size 432x288 with 1 Axes>"
            ]
          },
          "metadata": {
            "tags": [],
            "needs_background": "light"
          }
        },
        {
          "output_type": "stream",
          "text": [
            "Imágen con etiqueta:  2.0  modelo dice: 2\n"
          ],
          "name": "stdout"
        }
      ]
    },
    {
      "cell_type": "markdown",
      "metadata": {
        "id": "76-Xg6YA5lcA",
        "colab_type": "text"
      },
      "source": [
        "## Evaluando el clasificador\n",
        "\n",
        "Una vez que tienes un modelo, debes evaluarlo para saber que tan bien (o mal) está haciendo su trabajo. Para el modelo clasificador de dígitos, usaremos una métrica típica de evaluación.\n",
        "\n",
        "---\n",
        "\n",
        "## Exactitúd (Accuracy)\n",
        "\n",
        "La exactitúd o accuracy mide el rendimiento general del modelo.\n",
        "\n",
        "Utiliza la siguiente fórmula para completar la función ```accuracy``` para medir el rendimiento del modelo de clasificación de dígitos:\n",
        "\n",
        "$$\\texttt{accuracy}(y, \\hat{y}) = \\frac{1}{m} \\sum_{i=0}^{m-1} 1(\\hat{y}_i = y_i)$$\n",
        "\n",
        "$$1(1(\\hat{y}_i = y_i) = 1 \\quad \\text{cuando} \\quad \\hat{y}_i = y_i$$\n",
        "\n",
        "$$1(1(\\hat{y}_i = y_i) = 0 \\quad \\text{cuando} \\quad \\hat{y}_i \\neq y_i$$\n",
        "\n",
        "$$m \\quad \\text{es el número de ejemplos}$$"
      ]
    },
    {
      "cell_type": "code",
      "metadata": {
        "id": "x8Phgw7Y5lcC",
        "colab_type": "code",
        "colab": {
          "base_uri": "https://localhost:8080/",
          "height": 35
        },
        "outputId": "3eeecf66-5ae9-48d9-810c-d35ceb87b9c6"
      },
      "source": [
        "def accuracy(y, y_pred):\n",
        "  \"\"\"\n",
        "  Devuelve la exactitud dados dos vectores \"y\" con la verdad\n",
        "  y \"y_pred\" con las predicciones\n",
        "  \"\"\"\n",
        "  counts = np.count_nonzero(y == y_pred)\n",
        "  total = y.size\n",
        "  acc = counts/total\n",
        "  return acc\n",
        "accuracy(y,y_pred)"
      ],
      "execution_count": 69,
      "outputs": [
        {
          "output_type": "execute_result",
          "data": {
            "text/plain": [
              "0.80925"
            ]
          },
          "metadata": {
            "tags": []
          },
          "execution_count": 69
        }
      ]
    },
    {
      "cell_type": "code",
      "metadata": {
        "id": "_DtyCOj25lcG",
        "colab_type": "code",
        "colab": {
          "base_uri": "https://localhost:8080/",
          "height": 35
        },
        "outputId": "94b82348-ac76-4487-ea90-72f38132dcb3"
      },
      "source": [
        "accuracy(y, y_pred)"
      ],
      "execution_count": 70,
      "outputs": [
        {
          "output_type": "execute_result",
          "data": {
            "text/plain": [
              "0.80925"
            ]
          },
          "metadata": {
            "tags": []
          },
          "execution_count": 70
        }
      ]
    },
    {
      "cell_type": "markdown",
      "metadata": {
        "id": "lhjbikUG5lcL",
        "colab_type": "text"
      },
      "source": [
        "¿Consideras que el modelo es bueno para predecir dígitos escritos a mano?, ¿crees que hay margen de mejora?"
      ]
    },
    {
      "cell_type": "markdown",
      "metadata": {
        "id": "FIApNT337wjU",
        "colab_type": "text"
      },
      "source": [
        "Tiene un alto nivel de error, por lo tanto no consideraría que es bueno. Además como usamos promedios, mientras más datos usemos, más se van a parecer las clases, en particular al incrementar la variedad de datos, por ejemplo al rotar o distorsionar las imágenes, lo que podría reducir la precisión del modelo en contextos más generales, pero podría ser un experimento interesante."
      ]
    }
  ]
}